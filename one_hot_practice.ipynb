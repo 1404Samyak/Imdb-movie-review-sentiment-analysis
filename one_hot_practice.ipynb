{
 "cells": [
  {
   "cell_type": "code",
   "execution_count": 1,
   "metadata": {},
   "outputs": [
    {
     "data": {
      "text/plain": [
       "list"
      ]
     },
     "execution_count": 1,
     "metadata": {},
     "output_type": "execute_result"
    }
   ],
   "source": [
    "sentences=[\n",
    "    \"The sun sets behind the mountains, painting the sky in shades of orange and pink.\",\n",
    "    \"She carefully placed the book back on the shelf, its worn cover showing years of love.\",\n",
    "    \"The cat lazily stretched on the windowsill, basking in the warmth of the afternoon sun.\",\n",
    "    \"After the long hike, they were rewarded with a breathtaking view of the valley below.\",\n",
    "    \"The aroma of freshly baked bread filled the kitchen, making everyone's mouth water.\",\n",
    "    \"He glanced at his watch, realizing he was running late for the meeting.\",\n",
    "    \"The garden was in full bloom, with vibrant flowers swaying gently in the breeze.\",\n",
    "    \"She smiled as she read the letter, memories of their time together flooding her mind.\",\n",
    "    \"The rain tapped softly on the roof, creating a soothing rhythm as they sat by the fire.\",\n",
    "    \"As the airplane ascended into the clouds, he felt a mixture of excitement and nervousness.\"\n",
    "]\n",
    "voc_size=10000\n",
    "type(sentences)\n",
    "#corpus is list of sentences here and voc_size is defined to be 10000 here "
   ]
  },
  {
   "cell_type": "code",
   "execution_count": 2,
   "metadata": {},
   "outputs": [
    {
     "data": {
      "text/plain": [
       "([[9703,\n",
       "   1324,\n",
       "   2793,\n",
       "   7241,\n",
       "   9703,\n",
       "   3170,\n",
       "   5410,\n",
       "   9703,\n",
       "   8748,\n",
       "   1037,\n",
       "   7033,\n",
       "   2318,\n",
       "   7835,\n",
       "   9518,\n",
       "   9463],\n",
       "  [6296,\n",
       "   7465,\n",
       "   8855,\n",
       "   9703,\n",
       "   2779,\n",
       "   5520,\n",
       "   5155,\n",
       "   9703,\n",
       "   1238,\n",
       "   7875,\n",
       "   3214,\n",
       "   4541,\n",
       "   1314,\n",
       "   8551,\n",
       "   2318,\n",
       "   8647],\n",
       "  [9703,\n",
       "   5402,\n",
       "   6910,\n",
       "   5139,\n",
       "   5155,\n",
       "   9703,\n",
       "   2574,\n",
       "   7360,\n",
       "   1037,\n",
       "   9703,\n",
       "   4906,\n",
       "   2318,\n",
       "   9703,\n",
       "   2909,\n",
       "   1324],\n",
       "  [6744,\n",
       "   9703,\n",
       "   5481,\n",
       "   6358,\n",
       "   6204,\n",
       "   4436,\n",
       "   4255,\n",
       "   2173,\n",
       "   5518,\n",
       "   1323,\n",
       "   9950,\n",
       "   2318,\n",
       "   9703,\n",
       "   5923,\n",
       "   1873],\n",
       "  [9703,\n",
       "   2393,\n",
       "   2318,\n",
       "   7546,\n",
       "   9849,\n",
       "   7847,\n",
       "   8423,\n",
       "   9703,\n",
       "   3962,\n",
       "   7394,\n",
       "   7188,\n",
       "   2233,\n",
       "   9766],\n",
       "  [4268,\n",
       "   9721,\n",
       "   2990,\n",
       "   9032,\n",
       "   9025,\n",
       "   1218,\n",
       "   4268,\n",
       "   9932,\n",
       "   5779,\n",
       "   142,\n",
       "   7297,\n",
       "   9703,\n",
       "   4131],\n",
       "  [9703,\n",
       "   7819,\n",
       "   9932,\n",
       "   1037,\n",
       "   4584,\n",
       "   3055,\n",
       "   2173,\n",
       "   9783,\n",
       "   1560,\n",
       "   8820,\n",
       "   5114,\n",
       "   1037,\n",
       "   9703,\n",
       "   7271],\n",
       "  [6296,\n",
       "   7700,\n",
       "   4680,\n",
       "   6296,\n",
       "   1707,\n",
       "   9703,\n",
       "   5996,\n",
       "   6247,\n",
       "   2318,\n",
       "   9666,\n",
       "   1818,\n",
       "   7321,\n",
       "   8553,\n",
       "   4264,\n",
       "   1053],\n",
       "  [9703,\n",
       "   5336,\n",
       "   1745,\n",
       "   8125,\n",
       "   5155,\n",
       "   9703,\n",
       "   342,\n",
       "   4059,\n",
       "   5518,\n",
       "   7475,\n",
       "   4607,\n",
       "   4680,\n",
       "   6204,\n",
       "   4568,\n",
       "   4826,\n",
       "   9703,\n",
       "   6086],\n",
       "  [4680,\n",
       "   9703,\n",
       "   6613,\n",
       "   6772,\n",
       "   4106,\n",
       "   9703,\n",
       "   9428,\n",
       "   4268,\n",
       "   8234,\n",
       "   5518,\n",
       "   1918,\n",
       "   2318,\n",
       "   6707,\n",
       "   9518,\n",
       "   2840]],\n",
       " list)"
      ]
     },
     "execution_count": 2,
     "metadata": {},
     "output_type": "execute_result"
    }
   ],
   "source": [
    "import tensorflow\n",
    "from tensorflow.keras.preprocessing.text import one_hot\n",
    "from tensorflow.keras.utils import pad_sequences\n",
    "one_hot_rep=[one_hot(sentence,voc_size)for sentence in sentences]\n",
    "one_hot_rep,type(one_hot_rep)#one_hot_rep is basically list of list but now each sentence may have diff number of words so each vector of sentence will have different number of components as well so we have to use pad_sequences to make uniform vectors with same number of components"
   ]
  },
  {
   "cell_type": "code",
   "execution_count": 3,
   "metadata": {},
   "outputs": [
    {
     "name": "stdout",
     "output_type": "stream",
     "text": [
      "17\n"
     ]
    }
   ],
   "source": [
    "#find the max lenth first\n",
    "maxi=0\n",
    "for sentence in sentences:\n",
    "    count=len(sentence.split())\n",
    "    maxi=max(count,maxi)\n",
    "print(maxi)"
   ]
  },
  {
   "cell_type": "code",
   "execution_count": 4,
   "metadata": {},
   "outputs": [
    {
     "data": {
      "text/plain": [
       "array([[   0,    0, 9703, 1324, 2793, 7241, 9703, 3170, 5410, 9703, 8748,\n",
       "        1037, 7033, 2318, 7835, 9518, 9463],\n",
       "       [   0, 6296, 7465, 8855, 9703, 2779, 5520, 5155, 9703, 1238, 7875,\n",
       "        3214, 4541, 1314, 8551, 2318, 8647],\n",
       "       [   0,    0, 9703, 5402, 6910, 5139, 5155, 9703, 2574, 7360, 1037,\n",
       "        9703, 4906, 2318, 9703, 2909, 1324],\n",
       "       [   0,    0, 6744, 9703, 5481, 6358, 6204, 4436, 4255, 2173, 5518,\n",
       "        1323, 9950, 2318, 9703, 5923, 1873],\n",
       "       [   0,    0,    0,    0, 9703, 2393, 2318, 7546, 9849, 7847, 8423,\n",
       "        9703, 3962, 7394, 7188, 2233, 9766],\n",
       "       [   0,    0,    0,    0, 4268, 9721, 2990, 9032, 9025, 1218, 4268,\n",
       "        9932, 5779,  142, 7297, 9703, 4131],\n",
       "       [   0,    0,    0, 9703, 7819, 9932, 1037, 4584, 3055, 2173, 9783,\n",
       "        1560, 8820, 5114, 1037, 9703, 7271],\n",
       "       [   0,    0, 6296, 7700, 4680, 6296, 1707, 9703, 5996, 6247, 2318,\n",
       "        9666, 1818, 7321, 8553, 4264, 1053],\n",
       "       [9703, 5336, 1745, 8125, 5155, 9703,  342, 4059, 5518, 7475, 4607,\n",
       "        4680, 6204, 4568, 4826, 9703, 6086],\n",
       "       [   0,    0, 4680, 9703, 6613, 6772, 4106, 9703, 9428, 4268, 8234,\n",
       "        5518, 1918, 2318, 6707, 9518, 2840]])"
      ]
     },
     "execution_count": 4,
     "metadata": {},
     "output_type": "execute_result"
    }
   ],
   "source": [
    "embedded_docs=pad_sequences(one_hot_rep,padding=\"pre\",maxlen=maxi)\n",
    "embedded_docs"
   ]
  },
  {
   "cell_type": "code",
   "execution_count": null,
   "metadata": {},
   "outputs": [],
   "source": []
  }
 ],
 "metadata": {
  "kernelspec": {
   "display_name": "myenv2",
   "language": "python",
   "name": "python3"
  },
  "language_info": {
   "codemirror_mode": {
    "name": "ipython",
    "version": 3
   },
   "file_extension": ".py",
   "mimetype": "text/x-python",
   "name": "python",
   "nbconvert_exporter": "python",
   "pygments_lexer": "ipython3",
   "version": "3.12.5"
  }
 },
 "nbformat": 4,
 "nbformat_minor": 2
}
