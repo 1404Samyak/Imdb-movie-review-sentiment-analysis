{
 "cells": [
  {
   "cell_type": "code",
   "execution_count": 17,
   "metadata": {},
   "outputs": [],
   "source": [
    "import numpy as np\n",
    "import tensorflow as tf\n",
    "from tensorflow.keras.models import Sequential\n",
    "from tensorflow.keras.layers import Embedding,SimpleRNN,Dense\n",
    "from tensorflow.keras.preprocessing import sequence\n",
    "from tensorflow.keras.datasets import imdb\n",
    "from tensorflow.keras.models import load_model\n"
   ]
  },
  {
   "cell_type": "code",
   "execution_count": 18,
   "metadata": {},
   "outputs": [],
   "source": [
    "\n",
    "# Load the IMDB dataset word index\n",
    "word_index = imdb.get_word_index()\n",
    "reverse_word_index = {value: key for key, value in word_index.items()}"
   ]
  },
  {
   "cell_type": "code",
   "execution_count": 19,
   "metadata": {},
   "outputs": [
    {
     "name": "stderr",
     "output_type": "stream",
     "text": [
      "WARNING:absl:Compiled the loaded model, but the compiled metrics have yet to be built. `model.compile_metrics` will be empty until you train or evaluate the model.\n"
     ]
    },
    {
     "data": {
      "text/html": [
       "<pre style=\"white-space:pre;overflow-x:auto;line-height:normal;font-family:Menlo,'DejaVu Sans Mono',consolas,'Courier New',monospace\"><span style=\"font-weight: bold\">Model: \"sequential\"</span>\n",
       "</pre>\n"
      ],
      "text/plain": [
       "\u001b[1mModel: \"sequential\"\u001b[0m\n"
      ]
     },
     "metadata": {},
     "output_type": "display_data"
    },
    {
     "data": {
      "text/html": [
       "<pre style=\"white-space:pre;overflow-x:auto;line-height:normal;font-family:Menlo,'DejaVu Sans Mono',consolas,'Courier New',monospace\">┏━━━━━━━━━━━━━━━━━━━━━━━━━━━━━━━━━┳━━━━━━━━━━━━━━━━━━━━━━━━┳━━━━━━━━━━━━━━━┓\n",
       "┃<span style=\"font-weight: bold\"> Layer (type)                    </span>┃<span style=\"font-weight: bold\"> Output Shape           </span>┃<span style=\"font-weight: bold\">       Param # </span>┃\n",
       "┡━━━━━━━━━━━━━━━━━━━━━━━━━━━━━━━━━╇━━━━━━━━━━━━━━━━━━━━━━━━╇━━━━━━━━━━━━━━━┩\n",
       "│ embedding (<span style=\"color: #0087ff; text-decoration-color: #0087ff\">Embedding</span>)           │ (<span style=\"color: #00af00; text-decoration-color: #00af00\">32</span>, <span style=\"color: #00af00; text-decoration-color: #00af00\">500</span>, <span style=\"color: #00af00; text-decoration-color: #00af00\">128</span>)         │     <span style=\"color: #00af00; text-decoration-color: #00af00\">1,280,000</span> │\n",
       "├─────────────────────────────────┼────────────────────────┼───────────────┤\n",
       "│ simple_rnn (<span style=\"color: #0087ff; text-decoration-color: #0087ff\">SimpleRNN</span>)          │ (<span style=\"color: #00af00; text-decoration-color: #00af00\">32</span>, <span style=\"color: #00af00; text-decoration-color: #00af00\">128</span>)              │        <span style=\"color: #00af00; text-decoration-color: #00af00\">32,896</span> │\n",
       "├─────────────────────────────────┼────────────────────────┼───────────────┤\n",
       "│ dense (<span style=\"color: #0087ff; text-decoration-color: #0087ff\">Dense</span>)                   │ (<span style=\"color: #00af00; text-decoration-color: #00af00\">32</span>, <span style=\"color: #00af00; text-decoration-color: #00af00\">1</span>)                │           <span style=\"color: #00af00; text-decoration-color: #00af00\">129</span> │\n",
       "└─────────────────────────────────┴────────────────────────┴───────────────┘\n",
       "</pre>\n"
      ],
      "text/plain": [
       "┏━━━━━━━━━━━━━━━━━━━━━━━━━━━━━━━━━┳━━━━━━━━━━━━━━━━━━━━━━━━┳━━━━━━━━━━━━━━━┓\n",
       "┃\u001b[1m \u001b[0m\u001b[1mLayer (type)                   \u001b[0m\u001b[1m \u001b[0m┃\u001b[1m \u001b[0m\u001b[1mOutput Shape          \u001b[0m\u001b[1m \u001b[0m┃\u001b[1m \u001b[0m\u001b[1m      Param #\u001b[0m\u001b[1m \u001b[0m┃\n",
       "┡━━━━━━━━━━━━━━━━━━━━━━━━━━━━━━━━━╇━━━━━━━━━━━━━━━━━━━━━━━━╇━━━━━━━━━━━━━━━┩\n",
       "│ embedding (\u001b[38;5;33mEmbedding\u001b[0m)           │ (\u001b[38;5;34m32\u001b[0m, \u001b[38;5;34m500\u001b[0m, \u001b[38;5;34m128\u001b[0m)         │     \u001b[38;5;34m1,280,000\u001b[0m │\n",
       "├─────────────────────────────────┼────────────────────────┼───────────────┤\n",
       "│ simple_rnn (\u001b[38;5;33mSimpleRNN\u001b[0m)          │ (\u001b[38;5;34m32\u001b[0m, \u001b[38;5;34m128\u001b[0m)              │        \u001b[38;5;34m32,896\u001b[0m │\n",
       "├─────────────────────────────────┼────────────────────────┼───────────────┤\n",
       "│ dense (\u001b[38;5;33mDense\u001b[0m)                   │ (\u001b[38;5;34m32\u001b[0m, \u001b[38;5;34m1\u001b[0m)                │           \u001b[38;5;34m129\u001b[0m │\n",
       "└─────────────────────────────────┴────────────────────────┴───────────────┘\n"
      ]
     },
     "metadata": {},
     "output_type": "display_data"
    },
    {
     "data": {
      "text/html": [
       "<pre style=\"white-space:pre;overflow-x:auto;line-height:normal;font-family:Menlo,'DejaVu Sans Mono',consolas,'Courier New',monospace\"><span style=\"font-weight: bold\"> Total params: </span><span style=\"color: #00af00; text-decoration-color: #00af00\">1,313,027</span> (5.01 MB)\n",
       "</pre>\n"
      ],
      "text/plain": [
       "\u001b[1m Total params: \u001b[0m\u001b[38;5;34m1,313,027\u001b[0m (5.01 MB)\n"
      ]
     },
     "metadata": {},
     "output_type": "display_data"
    },
    {
     "data": {
      "text/html": [
       "<pre style=\"white-space:pre;overflow-x:auto;line-height:normal;font-family:Menlo,'DejaVu Sans Mono',consolas,'Courier New',monospace\"><span style=\"font-weight: bold\"> Trainable params: </span><span style=\"color: #00af00; text-decoration-color: #00af00\">1,313,025</span> (5.01 MB)\n",
       "</pre>\n"
      ],
      "text/plain": [
       "\u001b[1m Trainable params: \u001b[0m\u001b[38;5;34m1,313,025\u001b[0m (5.01 MB)\n"
      ]
     },
     "metadata": {},
     "output_type": "display_data"
    },
    {
     "data": {
      "text/html": [
       "<pre style=\"white-space:pre;overflow-x:auto;line-height:normal;font-family:Menlo,'DejaVu Sans Mono',consolas,'Courier New',monospace\"><span style=\"font-weight: bold\"> Non-trainable params: </span><span style=\"color: #00af00; text-decoration-color: #00af00\">0</span> (0.00 B)\n",
       "</pre>\n"
      ],
      "text/plain": [
       "\u001b[1m Non-trainable params: \u001b[0m\u001b[38;5;34m0\u001b[0m (0.00 B)\n"
      ]
     },
     "metadata": {},
     "output_type": "display_data"
    },
    {
     "data": {
      "text/html": [
       "<pre style=\"white-space:pre;overflow-x:auto;line-height:normal;font-family:Menlo,'DejaVu Sans Mono',consolas,'Courier New',monospace\"><span style=\"font-weight: bold\"> Optimizer params: </span><span style=\"color: #00af00; text-decoration-color: #00af00\">2</span> (12.00 B)\n",
       "</pre>\n"
      ],
      "text/plain": [
       "\u001b[1m Optimizer params: \u001b[0m\u001b[38;5;34m2\u001b[0m (12.00 B)\n"
      ]
     },
     "metadata": {},
     "output_type": "display_data"
    }
   ],
   "source": [
    "# Load the pre-trained model with ReLU activation\n",
    "model = load_model('simple_rnn_imdb.h5')\n",
    "model.summary()"
   ]
  },
  {
   "cell_type": "code",
   "execution_count": 20,
   "metadata": {},
   "outputs": [
    {
     "data": {
      "text/plain": [
       "[array([[-4.6866987e-02,  1.2497059e+00, -4.6836671e-01, ...,\n",
       "          6.2247711e-01,  3.7820634e-01,  5.9331057e-04],\n",
       "        [-2.0041811e-01,  2.3940983e-01,  4.6761846e-03, ...,\n",
       "          4.4160172e-02,  7.2846888e-03, -1.6069444e-01],\n",
       "        [ 8.8648833e-02, -9.5907878e-03,  4.9413018e-02, ...,\n",
       "         -9.0146013e-02, -5.8338717e-02, -4.3905385e-02],\n",
       "        ...,\n",
       "        [-2.4870966e-02,  3.0180417e-02,  4.5232423e-02, ...,\n",
       "         -2.1013429e-03, -2.9206654e-02, -2.1833306e-02],\n",
       "        [-4.3017745e-02,  6.1031640e-02, -6.7525515e-03, ...,\n",
       "         -5.2647401e-02,  6.3414700e-02, -4.7532853e-02],\n",
       "        [-1.5834931e-02,  6.5126112e-03,  3.4478493e-02, ...,\n",
       "         -1.8974055e-02, -3.3036672e-02, -2.8664824e-02]], dtype=float32),\n",
       " array([[ 0.03444096,  0.09912964, -0.06778824, ..., -0.02067181,\n",
       "          0.16475771, -0.08924739],\n",
       "        [ 0.11519767, -0.02213342, -0.12191144, ..., -0.12936923,\n",
       "         -0.05760253,  0.00895995],\n",
       "        [-0.09828493,  0.15050997,  0.12928359, ...,  0.04399743,\n",
       "         -0.04294904,  0.1781902 ],\n",
       "        ...,\n",
       "        [-0.00859828, -0.18775904,  0.0361888 , ...,  0.13054113,\n",
       "         -0.06666254, -0.16609299],\n",
       "        [ 0.07002371, -0.23141958, -0.13129228, ...,  0.29550886,\n",
       "         -0.06007197, -0.17615312],\n",
       "        [ 0.03063005, -0.05523517, -0.1744833 , ..., -0.0934922 ,\n",
       "         -0.08810959, -0.02525234]], dtype=float32),\n",
       " array([[-4.06782180e-02,  1.46875661e-02,  1.00543439e-01, ...,\n",
       "          1.55872041e-02, -1.64100930e-01,  1.98705383e-02],\n",
       "        [-1.21537626e-01,  9.67591032e-02,  2.77520031e-01, ...,\n",
       "         -7.38612935e-02, -1.59239128e-01,  1.33210886e-02],\n",
       "        [-5.20210573e-03, -2.17275337e-05, -1.70392975e-01, ...,\n",
       "          5.34222871e-02, -4.04099524e-02, -4.70341109e-02],\n",
       "        ...,\n",
       "        [-1.48109689e-01,  8.10865462e-02, -7.35895410e-02, ...,\n",
       "         -2.78465878e-02,  3.38964351e-02, -1.44336984e-01],\n",
       "        [ 1.01722695e-01, -3.67286205e-02, -5.28443903e-02, ...,\n",
       "          2.98603754e-02, -1.86724681e-02,  1.75183360e-02],\n",
       "        [-1.21411579e-02,  3.62954140e-02, -1.09301694e-01, ...,\n",
       "          1.43088289e-02,  2.92076804e-02,  1.16919242e-01]], dtype=float32),\n",
       " array([-0.03872311,  0.01637897,  0.01001371,  0.02387035, -0.02139742,\n",
       "        -0.04171276, -0.0113254 ,  0.01247803, -0.03433884, -0.01970461,\n",
       "         0.01842243,  0.01774137, -0.04763773, -0.01098554, -0.04087088,\n",
       "         0.0015178 , -0.04054149, -0.05564165, -0.02120274, -0.01848443,\n",
       "         0.04132387, -0.02975568, -0.02715086, -0.03781654,  0.04761247,\n",
       "        -0.03649697, -0.01860321, -0.02777033, -0.04207838,  0.03025528,\n",
       "         0.03169073, -0.01556238,  0.00061847,  0.00184225, -0.03073659,\n",
       "         0.01476019, -0.01204794,  0.00832464, -0.02281061,  0.01989109,\n",
       "         0.01559794, -0.06332234,  0.02973593, -0.03491683, -0.04561736,\n",
       "        -0.04182874, -0.02328319,  0.00781457,  0.01882253, -0.0006642 ,\n",
       "         0.01849442, -0.02953274,  0.11553655, -0.02791084, -0.03405666,\n",
       "        -0.02302041, -0.00702384,  0.02989926,  0.03480076, -0.05280057,\n",
       "        -0.0307429 , -0.01083571, -0.0023844 ,  0.02175653, -0.02645501,\n",
       "        -0.0021926 , -0.0296586 , -0.03080028,  0.02200672, -0.02893181,\n",
       "        -0.03197714,  0.01335771,  0.02499777, -0.03355495, -0.04766877,\n",
       "        -0.0027063 ,  0.02760206, -0.03008158, -0.01732508,  0.02903325,\n",
       "        -0.04929197, -0.02586845,  0.01092745,  0.01191858, -0.00634619,\n",
       "         0.02030764, -0.01294899,  0.04317205, -0.02906848,  0.01735957,\n",
       "        -0.05484027, -0.01181671, -0.02583853, -0.05342332, -0.00241744,\n",
       "         0.03718413, -0.01606854, -0.02405256, -0.04883458,  0.02377976,\n",
       "        -0.03213923,  0.02650023, -0.02594663, -0.03739703,  0.00512331,\n",
       "         0.0060414 ,  0.00939342, -0.03870433, -0.03736412, -0.00457041,\n",
       "        -0.02025248, -0.00411051,  0.02872994, -0.03169739,  0.04281726,\n",
       "        -0.01336485, -0.02976056, -0.0046599 , -0.00236235, -0.0001948 ,\n",
       "         0.02742736, -0.01373009, -0.05162033,  0.0402667 ,  0.0092696 ,\n",
       "        -0.02087529, -0.03559915,  0.02665975], dtype=float32),\n",
       " array([[-0.03756995],\n",
       "        [ 0.23068345],\n",
       "        [ 0.02414853],\n",
       "        [ 0.04833795],\n",
       "        [-0.17589733],\n",
       "        [-0.09226543],\n",
       "        [-0.31162563],\n",
       "        [ 0.09436379],\n",
       "        [-0.07454088],\n",
       "        [-0.08638204],\n",
       "        [-0.0962197 ],\n",
       "        [ 0.05426683],\n",
       "        [-0.1500244 ],\n",
       "        [-0.24162178],\n",
       "        [-0.14451967],\n",
       "        [-0.5490541 ],\n",
       "        [-0.15194276],\n",
       "        [-0.10472751],\n",
       "        [-0.09115555],\n",
       "        [-0.11217266],\n",
       "        [ 0.20964818],\n",
       "        [-0.22040144],\n",
       "        [ 0.22425643],\n",
       "        [-0.05323256],\n",
       "        [-0.24174146],\n",
       "        [-0.03313847],\n",
       "        [-0.23105623],\n",
       "        [ 0.06073679],\n",
       "        [-0.1805977 ],\n",
       "        [ 0.05988413],\n",
       "        [ 0.04142076],\n",
       "        [-0.16866486],\n",
       "        [-0.0666322 ],\n",
       "        [ 0.06361874],\n",
       "        [-0.35367066],\n",
       "        [-0.04424727],\n",
       "        [-0.19839327],\n",
       "        [-0.16894422],\n",
       "        [ 0.23884198],\n",
       "        [-0.03329404],\n",
       "        [ 0.17847568],\n",
       "        [ 0.14986953],\n",
       "        [ 0.16742997],\n",
       "        [-0.08094311],\n",
       "        [ 0.23278019],\n",
       "        [-0.1694271 ],\n",
       "        [ 0.09105377],\n",
       "        [ 0.28805897],\n",
       "        [-0.32753065],\n",
       "        [-0.33861288],\n",
       "        [ 0.07602994],\n",
       "        [-0.18736404],\n",
       "        [-0.1559113 ],\n",
       "        [ 0.15218686],\n",
       "        [-0.16495979],\n",
       "        [ 0.00502309],\n",
       "        [-0.23717622],\n",
       "        [ 0.20704864],\n",
       "        [ 0.15607719],\n",
       "        [-0.18162957],\n",
       "        [-0.16038188],\n",
       "        [-0.15833852],\n",
       "        [-0.17490841],\n",
       "        [-0.09026629],\n",
       "        [-0.34304953],\n",
       "        [-0.4768387 ],\n",
       "        [-0.09628949],\n",
       "        [-0.33453014],\n",
       "        [ 0.14877824],\n",
       "        [-0.08708981],\n",
       "        [-0.18096259],\n",
       "        [ 0.24482414],\n",
       "        [ 0.21025413],\n",
       "        [-0.10928825],\n",
       "        [-0.12231551],\n",
       "        [-0.22488604],\n",
       "        [ 0.18575239],\n",
       "        [ 0.06356187],\n",
       "        [-0.10952828],\n",
       "        [-0.0312647 ],\n",
       "        [ 0.11659473],\n",
       "        [-0.05549919],\n",
       "        [ 0.27201974],\n",
       "        [ 0.19893998],\n",
       "        [-0.2707352 ],\n",
       "        [-0.1268176 ],\n",
       "        [ 0.07870448],\n",
       "        [-0.03537908],\n",
       "        [ 0.29986948],\n",
       "        [-0.06783744],\n",
       "        [ 0.15576287],\n",
       "        [-0.00888954],\n",
       "        [-0.09425634],\n",
       "        [-0.08839303],\n",
       "        [-0.25384387],\n",
       "        [-0.2329386 ],\n",
       "        [ 0.14760962],\n",
       "        [-0.10914533],\n",
       "        [-0.00471153],\n",
       "        [ 0.16153044],\n",
       "        [-0.06921329],\n",
       "        [-0.08385231],\n",
       "        [-0.17279235],\n",
       "        [-0.0544996 ],\n",
       "        [ 0.31604594],\n",
       "        [-0.07889823],\n",
       "        [ 0.09012562],\n",
       "        [-0.06230963],\n",
       "        [ 0.06506264],\n",
       "        [-0.00181872],\n",
       "        [-0.0696758 ],\n",
       "        [-0.14735048],\n",
       "        [ 0.0791315 ],\n",
       "        [-0.05407152],\n",
       "        [ 0.18165594],\n",
       "        [-0.23947152],\n",
       "        [-0.17611042],\n",
       "        [-0.20786764],\n",
       "        [-0.3423203 ],\n",
       "        [-0.25601414],\n",
       "        [ 0.03066118],\n",
       "        [-0.07937767],\n",
       "        [-0.02773023],\n",
       "        [ 0.08622221],\n",
       "        [ 0.17726548],\n",
       "        [-0.1616302 ],\n",
       "        [ 0.18553597],\n",
       "        [ 0.06099368]], dtype=float32),\n",
       " array([-0.10322395], dtype=float32)]"
      ]
     },
     "execution_count": 20,
     "metadata": {},
     "output_type": "execute_result"
    }
   ],
   "source": [
    "#For getting the weights\n",
    "model.get_weights()"
   ]
  },
  {
   "cell_type": "code",
   "execution_count": 21,
   "metadata": {},
   "outputs": [],
   "source": [
    "# Step 2: Helper Functions\n",
    "# Function to decode reviews\n",
    "def decode_review(encoded_review):\n",
    "    return ' '.join([reverse_word_index.get(i - 3, '?') for i in encoded_review])\n",
    "\n",
    "# Function to preprocess user input\n",
    "def preprocess_text(text):\n",
    "    words = text.lower().split()\n",
    "    encoded_review = [word_index.get(word, 2) + 3 for word in words]\n",
    "    padded_review = sequence.pad_sequences([encoded_review], maxlen=500)\n",
    "    return padded_review"
   ]
  },
  {
   "cell_type": "code",
   "execution_count": 22,
   "metadata": {},
   "outputs": [],
   "source": [
    "### Prediction  function\n",
    "def predict_sentiment(review):\n",
    "    preprocessed_input=preprocess_text(review)\n",
    "\n",
    "    prediction=model.predict(preprocessed_input)\n",
    "\n",
    "    sentiment = 'Positive' if prediction[0][0] > 0.5 else 'Negative'\n",
    "    \n",
    "    return sentiment, prediction[0][0]"
   ]
  },
  {
   "cell_type": "code",
   "execution_count": 23,
   "metadata": {},
   "outputs": [
    {
     "name": "stdout",
     "output_type": "stream",
     "text": [
      "\u001b[1m1/1\u001b[0m \u001b[32m━━━━━━━━━━━━━━━━━━━━\u001b[0m\u001b[37m\u001b[0m \u001b[1m0s\u001b[0m 118ms/step\n",
      "Review: This movie was fantastic! The acting was great and the plot was thrilling.\n",
      "Sentiment: Positive\n",
      "Prediction Score: 0.6974327564239502\n"
     ]
    }
   ],
   "source": [
    "# Step 4: User Input and Prediction\n",
    "# Example review for prediction\n",
    "example_review1 = \"This movie was fantastic! The acting was great and the plot was thrilling.\"\n",
    "example_review2=\" This movie was bad.\"\n",
    "sentiment1,score1=predict_sentiment(example_review1)\n",
    "print(f'Review: {example_review1}')\n",
    "print(f'Sentiment: {sentiment1}')\n",
    "print(f'Prediction Score: {score1}')\n"
   ]
  },
  {
   "cell_type": "code",
   "execution_count": null,
   "metadata": {},
   "outputs": [],
   "source": []
  }
 ],
 "metadata": {
  "kernelspec": {
   "display_name": "myenv2",
   "language": "python",
   "name": "python3"
  },
  "language_info": {
   "codemirror_mode": {
    "name": "ipython",
    "version": 3
   },
   "file_extension": ".py",
   "mimetype": "text/x-python",
   "name": "python",
   "nbconvert_exporter": "python",
   "pygments_lexer": "ipython3",
   "version": "3.12.5"
  }
 },
 "nbformat": 4,
 "nbformat_minor": 2
}
