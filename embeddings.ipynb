{
 "cells": [
  {
   "cell_type": "code",
   "execution_count": 13,
   "metadata": {},
   "outputs": [
    {
     "data": {
      "text/plain": [
       "['the glass of milk',\n",
       " 'the glass of juice',\n",
       " 'the cup of tea',\n",
       " 'I am a good boy',\n",
       " 'I am a good developer',\n",
       " 'understand the meaning of words',\n",
       " 'your videos are good']"
      ]
     },
     "execution_count": 13,
     "metadata": {},
     "output_type": "execute_result"
    }
   ],
   "source": [
    "### sentences\n",
    "sentences=['the glass of milk',  \n",
    "     'the glass of juice',\n",
    "     'the cup of tea',\n",
    "    'I am a good boy',\n",
    "     'I am a good developer',\n",
    "     'understand the meaning of words',\n",
    "     'your videos are good',]\n",
    "sentences#This is basically a list of sentences a paragraph having list of senetences"
   ]
  },
  {
   "cell_type": "code",
   "execution_count": 14,
   "metadata": {},
   "outputs": [],
   "source": [
    "\"\"\"Define vocabulary size\"\"\"\n",
    "voc_size=10000\n"
   ]
  },
  {
   "cell_type": "code",
   "execution_count": 15,
   "metadata": {},
   "outputs": [
    {
     "data": {
      "text/plain": [
       "[[6764, 8385, 1216, 8467],\n",
       " [6764, 8385, 1216, 4976],\n",
       " [6764, 9414, 1216, 2639],\n",
       " [5147, 2160, 4341, 6044, 5477],\n",
       " [5147, 2160, 4341, 6044, 7353],\n",
       " [5937, 6764, 4754, 1216, 8025],\n",
       " [7845, 8728, 6685, 6044]]"
      ]
     },
     "execution_count": 15,
     "metadata": {},
     "output_type": "execute_result"
    }
   ],
   "source": [
    "#One Hot representation\n",
    "from tensorflow.keras.preprocessing.text import one_hot\n",
    "one_hot_rep=[one_hot(sentence,voc_size) for sentence in sentences]\n",
    "one_hot_rep\n",
    "#This will convert all sentence into some vector but each sentence can have different number of vector components,diff dimensions \n",
    "#but all sentence should have  equal number of vector components for easier training of model"
   ]
  },
  {
   "cell_type": "code",
   "execution_count": 16,
   "metadata": {},
   "outputs": [],
   "source": [
    "from tensorflow.keras.layers import Embedding\n",
    "#prev in ANN we used thensorflow.keras.layers to import dense here we will import the embedding layer and simpleRNN layer layer later\n",
    "from tensorflow.keras.utils import pad_sequences\n",
    "from tensorflow.keras.models import Sequential\n",
    "import numpy as np"
   ]
  },
  {
   "cell_type": "code",
   "execution_count": 17,
   "metadata": {},
   "outputs": [
    {
     "name": "stdout",
     "output_type": "stream",
     "text": [
      "5\n"
     ]
    }
   ],
   "source": [
    "sent_length=0\n",
    "for sentence in sentences:\n",
    "    count=len(sentence.split())\n",
    "    sent_length=max(sent_length,count)\n",
    "print(sent_length)\n",
    "#want to find max number of words in each sentence so split each sentence into array of words and compare its len\n",
    "#This will give max_len and we can also set the maxlen to any value>= this value obtained acc to our wish"
   ]
  },
  {
   "cell_type": "code",
   "execution_count": 18,
   "metadata": {},
   "outputs": [
    {
     "name": "stdout",
     "output_type": "stream",
     "text": [
      "[[   0 6764 8385 1216 8467]\n",
      " [   0 6764 8385 1216 4976]\n",
      " [   0 6764 9414 1216 2639]\n",
      " [5147 2160 4341 6044 5477]\n",
      " [5147 2160 4341 6044 7353]\n",
      " [5937 6764 4754 1216 8025]\n",
      " [   0 7845 8728 6685 6044]]\n"
     ]
    }
   ],
   "source": [
    "embedded_docs=pad_sequences(one_hot_rep,padding='pre',maxlen=sent_length)#pre means will add zeros at the beginning to match the max length wheerever required\n",
    "print(embedded_docs)\n"
   ]
  },
  {
   "cell_type": "code",
   "execution_count": 19,
   "metadata": {},
   "outputs": [],
   "source": [
    "#Feature representation\n",
    "dim=10"
   ]
  },
  {
   "cell_type": "code",
   "execution_count": 20,
   "metadata": {},
   "outputs": [],
   "source": [
    "model=Sequential()\n",
    "model.add(Embedding(voc_size,dim,input_length=sent_length))\n",
    "model.compile('adam','mse')\n",
    "#Basically here we are passing embedding layer into the rnn with the optimizer as adam optimizer and mse"
   ]
  },
  {
   "cell_type": "code",
   "execution_count": 21,
   "metadata": {},
   "outputs": [
    {
     "data": {
      "text/html": [
       "<pre style=\"white-space:pre;overflow-x:auto;line-height:normal;font-family:Menlo,'DejaVu Sans Mono',consolas,'Courier New',monospace\"><span style=\"font-weight: bold\">Model: \"sequential_1\"</span>\n",
       "</pre>\n"
      ],
      "text/plain": [
       "\u001b[1mModel: \"sequential_1\"\u001b[0m\n"
      ]
     },
     "metadata": {},
     "output_type": "display_data"
    },
    {
     "data": {
      "text/html": [
       "<pre style=\"white-space:pre;overflow-x:auto;line-height:normal;font-family:Menlo,'DejaVu Sans Mono',consolas,'Courier New',monospace\">┏━━━━━━━━━━━━━━━━━━━━━━━━━━━━━━━━━┳━━━━━━━━━━━━━━━━━━━━━━━━┳━━━━━━━━━━━━━━━┓\n",
       "┃<span style=\"font-weight: bold\"> Layer (type)                    </span>┃<span style=\"font-weight: bold\"> Output Shape           </span>┃<span style=\"font-weight: bold\">       Param # </span>┃\n",
       "┡━━━━━━━━━━━━━━━━━━━━━━━━━━━━━━━━━╇━━━━━━━━━━━━━━━━━━━━━━━━╇━━━━━━━━━━━━━━━┩\n",
       "│ embedding_1 (<span style=\"color: #0087ff; text-decoration-color: #0087ff\">Embedding</span>)         │ ?                      │   <span style=\"color: #00af00; text-decoration-color: #00af00\">0</span> (unbuilt) │\n",
       "└─────────────────────────────────┴────────────────────────┴───────────────┘\n",
       "</pre>\n"
      ],
      "text/plain": [
       "┏━━━━━━━━━━━━━━━━━━━━━━━━━━━━━━━━━┳━━━━━━━━━━━━━━━━━━━━━━━━┳━━━━━━━━━━━━━━━┓\n",
       "┃\u001b[1m \u001b[0m\u001b[1mLayer (type)                   \u001b[0m\u001b[1m \u001b[0m┃\u001b[1m \u001b[0m\u001b[1mOutput Shape          \u001b[0m\u001b[1m \u001b[0m┃\u001b[1m \u001b[0m\u001b[1m      Param #\u001b[0m\u001b[1m \u001b[0m┃\n",
       "┡━━━━━━━━━━━━━━━━━━━━━━━━━━━━━━━━━╇━━━━━━━━━━━━━━━━━━━━━━━━╇━━━━━━━━━━━━━━━┩\n",
       "│ embedding_1 (\u001b[38;5;33mEmbedding\u001b[0m)         │ ?                      │   \u001b[38;5;34m0\u001b[0m (unbuilt) │\n",
       "└─────────────────────────────────┴────────────────────────┴───────────────┘\n"
      ]
     },
     "metadata": {},
     "output_type": "display_data"
    },
    {
     "data": {
      "text/html": [
       "<pre style=\"white-space:pre;overflow-x:auto;line-height:normal;font-family:Menlo,'DejaVu Sans Mono',consolas,'Courier New',monospace\"><span style=\"font-weight: bold\"> Total params: </span><span style=\"color: #00af00; text-decoration-color: #00af00\">0</span> (0.00 B)\n",
       "</pre>\n"
      ],
      "text/plain": [
       "\u001b[1m Total params: \u001b[0m\u001b[38;5;34m0\u001b[0m (0.00 B)\n"
      ]
     },
     "metadata": {},
     "output_type": "display_data"
    },
    {
     "data": {
      "text/html": [
       "<pre style=\"white-space:pre;overflow-x:auto;line-height:normal;font-family:Menlo,'DejaVu Sans Mono',consolas,'Courier New',monospace\"><span style=\"font-weight: bold\"> Trainable params: </span><span style=\"color: #00af00; text-decoration-color: #00af00\">0</span> (0.00 B)\n",
       "</pre>\n"
      ],
      "text/plain": [
       "\u001b[1m Trainable params: \u001b[0m\u001b[38;5;34m0\u001b[0m (0.00 B)\n"
      ]
     },
     "metadata": {},
     "output_type": "display_data"
    },
    {
     "data": {
      "text/html": [
       "<pre style=\"white-space:pre;overflow-x:auto;line-height:normal;font-family:Menlo,'DejaVu Sans Mono',consolas,'Courier New',monospace\"><span style=\"font-weight: bold\"> Non-trainable params: </span><span style=\"color: #00af00; text-decoration-color: #00af00\">0</span> (0.00 B)\n",
       "</pre>\n"
      ],
      "text/plain": [
       "\u001b[1m Non-trainable params: \u001b[0m\u001b[38;5;34m0\u001b[0m (0.00 B)\n"
      ]
     },
     "metadata": {},
     "output_type": "display_data"
    }
   ],
   "source": [
    "model.summary()"
   ]
  },
  {
   "cell_type": "code",
   "execution_count": 22,
   "metadata": {},
   "outputs": [
    {
     "name": "stdout",
     "output_type": "stream",
     "text": [
      "\u001b[1m1/1\u001b[0m \u001b[32m━━━━━━━━━━━━━━━━━━━━\u001b[0m\u001b[37m\u001b[0m \u001b[1m0s\u001b[0m 112ms/step\n"
     ]
    },
    {
     "data": {
      "text/plain": [
       "array([[[-0.04685127, -0.04468649,  0.04567783, -0.04791641,\n",
       "          0.03890968, -0.01774172, -0.0255048 , -0.0178455 ,\n",
       "          0.01032827, -0.00605256],\n",
       "        [-0.03377222,  0.03963109, -0.03215977,  0.02068702,\n",
       "          0.02566682, -0.00845208, -0.02731497,  0.04078447,\n",
       "         -0.04411775,  0.04624819],\n",
       "        [ 0.04973852, -0.01876905, -0.0073113 ,  0.00152544,\n",
       "          0.03854985,  0.0469701 ,  0.03403554, -0.02299197,\n",
       "         -0.02083792,  0.01476676],\n",
       "        [-0.01341422, -0.03151786, -0.03153676, -0.03322931,\n",
       "         -0.04024459, -0.0136206 , -0.0485636 ,  0.01043489,\n",
       "          0.00429283,  0.00312184],\n",
       "        [-0.00179796, -0.00147368, -0.03801828,  0.03917031,\n",
       "         -0.02322756,  0.04405794, -0.04276687,  0.04070501,\n",
       "         -0.02482363, -0.01758821]],\n",
       "\n",
       "       [[-0.04685127, -0.04468649,  0.04567783, -0.04791641,\n",
       "          0.03890968, -0.01774172, -0.0255048 , -0.0178455 ,\n",
       "          0.01032827, -0.00605256],\n",
       "        [-0.03377222,  0.03963109, -0.03215977,  0.02068702,\n",
       "          0.02566682, -0.00845208, -0.02731497,  0.04078447,\n",
       "         -0.04411775,  0.04624819],\n",
       "        [ 0.04973852, -0.01876905, -0.0073113 ,  0.00152544,\n",
       "          0.03854985,  0.0469701 ,  0.03403554, -0.02299197,\n",
       "         -0.02083792,  0.01476676],\n",
       "        [-0.01341422, -0.03151786, -0.03153676, -0.03322931,\n",
       "         -0.04024459, -0.0136206 , -0.0485636 ,  0.01043489,\n",
       "          0.00429283,  0.00312184],\n",
       "        [-0.04563315,  0.01006984, -0.00754116,  0.04277423,\n",
       "         -0.01408341,  0.02611642,  0.02751053, -0.00602049,\n",
       "          0.04549784, -0.02548304]],\n",
       "\n",
       "       [[-0.04685127, -0.04468649,  0.04567783, -0.04791641,\n",
       "          0.03890968, -0.01774172, -0.0255048 , -0.0178455 ,\n",
       "          0.01032827, -0.00605256],\n",
       "        [-0.03377222,  0.03963109, -0.03215977,  0.02068702,\n",
       "          0.02566682, -0.00845208, -0.02731497,  0.04078447,\n",
       "         -0.04411775,  0.04624819],\n",
       "        [-0.01559311, -0.02755958,  0.00655722,  0.0328554 ,\n",
       "         -0.00923331,  0.03781918,  0.00878642,  0.04242703,\n",
       "         -0.00066175,  0.02272144],\n",
       "        [-0.01341422, -0.03151786, -0.03153676, -0.03322931,\n",
       "         -0.04024459, -0.0136206 , -0.0485636 ,  0.01043489,\n",
       "          0.00429283,  0.00312184],\n",
       "        [-0.0448122 ,  0.04436352,  0.02057815,  0.0181141 ,\n",
       "         -0.01231072,  0.04207217, -0.04565786,  0.02303802,\n",
       "         -0.00846493, -0.02009344]],\n",
       "\n",
       "       [[-0.01942509, -0.03219489, -0.04388478,  0.04126568,\n",
       "         -0.01242243, -0.02492428,  0.00970155,  0.03790564,\n",
       "         -0.00071948, -0.01739856],\n",
       "        [ 0.01959877, -0.02381334,  0.02665639, -0.01741337,\n",
       "          0.04294733, -0.02256333, -0.03334292, -0.03705884,\n",
       "          0.03793743,  0.00804601],\n",
       "        [-0.01274572, -0.01249276, -0.03255074,  0.04908682,\n",
       "         -0.01513674,  0.00536321,  0.00512891, -0.03939192,\n",
       "         -0.02919956, -0.00860256],\n",
       "        [ 0.04820658,  0.01627466, -0.00623452, -0.01576002,\n",
       "          0.0221484 ,  0.03108703,  0.00703387,  0.02377397,\n",
       "         -0.04940323, -0.03361318],\n",
       "        [-0.01155081, -0.02231414, -0.01329067, -0.0137917 ,\n",
       "          0.01368625, -0.0127142 ,  0.03973254, -0.02754799,\n",
       "          0.02418454, -0.00634074]],\n",
       "\n",
       "       [[-0.01942509, -0.03219489, -0.04388478,  0.04126568,\n",
       "         -0.01242243, -0.02492428,  0.00970155,  0.03790564,\n",
       "         -0.00071948, -0.01739856],\n",
       "        [ 0.01959877, -0.02381334,  0.02665639, -0.01741337,\n",
       "          0.04294733, -0.02256333, -0.03334292, -0.03705884,\n",
       "          0.03793743,  0.00804601],\n",
       "        [-0.01274572, -0.01249276, -0.03255074,  0.04908682,\n",
       "         -0.01513674,  0.00536321,  0.00512891, -0.03939192,\n",
       "         -0.02919956, -0.00860256],\n",
       "        [ 0.04820658,  0.01627466, -0.00623452, -0.01576002,\n",
       "          0.0221484 ,  0.03108703,  0.00703387,  0.02377397,\n",
       "         -0.04940323, -0.03361318],\n",
       "        [-0.02660039, -0.01582768, -0.0152062 , -0.04544537,\n",
       "         -0.02556702, -0.04937926,  0.01086322, -0.02484336,\n",
       "          0.02954416,  0.01365649]],\n",
       "\n",
       "       [[-0.02119809,  0.01289636, -0.03632184, -0.01129757,\n",
       "         -0.00066202, -0.0483297 , -0.04840622, -0.04132686,\n",
       "          0.00461128, -0.00508528],\n",
       "        [-0.03377222,  0.03963109, -0.03215977,  0.02068702,\n",
       "          0.02566682, -0.00845208, -0.02731497,  0.04078447,\n",
       "         -0.04411775,  0.04624819],\n",
       "        [-0.00193907, -0.02997525,  0.04327241,  0.00224638,\n",
       "         -0.04783249,  0.00941856, -0.02184772, -0.01251621,\n",
       "          0.01024098, -0.03608893],\n",
       "        [-0.01341422, -0.03151786, -0.03153676, -0.03322931,\n",
       "         -0.04024459, -0.0136206 , -0.0485636 ,  0.01043489,\n",
       "          0.00429283,  0.00312184],\n",
       "        [ 0.01029591, -0.04542113,  0.03250238, -0.0403781 ,\n",
       "          0.02833915, -0.00238391, -0.01488954,  0.03100714,\n",
       "          0.00255223,  0.00633782]],\n",
       "\n",
       "       [[-0.04685127, -0.04468649,  0.04567783, -0.04791641,\n",
       "          0.03890968, -0.01774172, -0.0255048 , -0.0178455 ,\n",
       "          0.01032827, -0.00605256],\n",
       "        [-0.02088144,  0.02772136, -0.00946143, -0.01471705,\n",
       "          0.02700691,  0.0388625 ,  0.04458568, -0.01996536,\n",
       "         -0.00175772, -0.00405294],\n",
       "        [ 0.03818753, -0.00210792,  0.01754535, -0.04498702,\n",
       "         -0.01475523,  0.02795212,  0.00795602,  0.00496455,\n",
       "         -0.03669019,  0.03685283],\n",
       "        [ 0.02626413,  0.04673305, -0.02404498, -0.01377205,\n",
       "          0.01826514,  0.02254608, -0.03646426,  0.01111305,\n",
       "          0.02368443,  0.0009204 ],\n",
       "        [ 0.04820658,  0.01627466, -0.00623452, -0.01576002,\n",
       "          0.0221484 ,  0.03108703,  0.00703387,  0.02377397,\n",
       "         -0.04940323, -0.03361318]]], dtype=float32)"
      ]
     },
     "execution_count": 22,
     "metadata": {},
     "output_type": "execute_result"
    }
   ],
   "source": [
    "model.predict(embedded_docs)"
   ]
  },
  {
   "cell_type": "code",
   "execution_count": 23,
   "metadata": {},
   "outputs": [
    {
     "data": {
      "text/plain": [
       "array([   0, 6764, 8385, 1216, 8467])"
      ]
     },
     "execution_count": 23,
     "metadata": {},
     "output_type": "execute_result"
    }
   ],
   "source": [
    "embedded_docs[0]"
   ]
  },
  {
   "cell_type": "code",
   "execution_count": 24,
   "metadata": {},
   "outputs": [
    {
     "data": {
      "text/plain": [
       "'WE would have list of sentences having diff number of words we want to convert each sentence as list of numbers so each word of sentence is converted to a number basically we will get list of list each list have numbers for each word thats what we formed in embedded docs'"
      ]
     },
     "execution_count": 24,
     "metadata": {},
     "output_type": "execute_result"
    }
   ],
   "source": [
    "\"\"\"WE would have list of sentences having diff number of words we want to convert each sentence as list of numbers so each word of sentence is converted to a number basically we will get list of list each list have numbers for each word thats what we formed in embedded docs\"\"\""
   ]
  },
  {
   "cell_type": "code",
   "execution_count": null,
   "metadata": {},
   "outputs": [],
   "source": []
  }
 ],
 "metadata": {
  "kernelspec": {
   "display_name": "myenv2",
   "language": "python",
   "name": "python3"
  },
  "language_info": {
   "codemirror_mode": {
    "name": "ipython",
    "version": 3
   },
   "file_extension": ".py",
   "mimetype": "text/x-python",
   "name": "python",
   "nbconvert_exporter": "python",
   "pygments_lexer": "ipython3",
   "version": "3.12.5"
  }
 },
 "nbformat": 4,
 "nbformat_minor": 2
}
